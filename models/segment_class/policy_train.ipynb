{
 "cells": [
  {
   "cell_type": "markdown",
   "metadata": {},
   "source": [
    "### Convert to True Types"
   ]
  },
  {
   "cell_type": "code",
   "execution_count": 1,
   "metadata": {},
   "outputs": [],
   "source": [
    "import pandas as pd\n",
    "import numpy as np\n",
    "import sklearn\n",
    "import datetime\n",
    "import time"
   ]
  },
  {
   "cell_type": "code",
   "execution_count": 2,
   "metadata": {},
   "outputs": [
    {
     "data": {
      "text/html": [
       "<div>\n",
       "<style scoped>\n",
       "    .dataframe tbody tr th:only-of-type {\n",
       "        vertical-align: middle;\n",
       "    }\n",
       "\n",
       "    .dataframe tbody tr th {\n",
       "        vertical-align: top;\n",
       "    }\n",
       "\n",
       "    .dataframe thead th {\n",
       "        text-align: right;\n",
       "    }\n",
       "</style>\n",
       "<table border=\"1\" class=\"dataframe\">\n",
       "  <thead>\n",
       "    <tr style=\"text-align: right;\">\n",
       "      <th></th>\n",
       "      <th>Customer ID</th>\n",
       "      <th>Age</th>\n",
       "      <th>Gender</th>\n",
       "      <th>Marital Status</th>\n",
       "      <th>Education Level</th>\n",
       "      <th>Geographic Information</th>\n",
       "      <th>Occupation</th>\n",
       "      <th>Income Level</th>\n",
       "      <th>Behavioral Data</th>\n",
       "      <th>Purchase History</th>\n",
       "      <th>Interactions with Customer Service</th>\n",
       "      <th>Insurance Products Owned</th>\n",
       "      <th>Coverage Amount</th>\n",
       "      <th>Premium Amount</th>\n",
       "      <th>Policy Type</th>\n",
       "      <th>Customer Preferences</th>\n",
       "      <th>Preferred Communication Channel</th>\n",
       "      <th>Preferred Contact Time</th>\n",
       "      <th>Preferred Language</th>\n",
       "      <th>Segmentation Group</th>\n",
       "    </tr>\n",
       "  </thead>\n",
       "  <tbody>\n",
       "    <tr>\n",
       "      <th>0</th>\n",
       "      <td>84966</td>\n",
       "      <td>23</td>\n",
       "      <td>Female</td>\n",
       "      <td>Married</td>\n",
       "      <td>Associate Degree</td>\n",
       "      <td>Mizoram</td>\n",
       "      <td>Entrepreneur</td>\n",
       "      <td>70541</td>\n",
       "      <td>policy5</td>\n",
       "      <td>04-10-2018</td>\n",
       "      <td>Phone</td>\n",
       "      <td>policy2</td>\n",
       "      <td>366603</td>\n",
       "      <td>2749</td>\n",
       "      <td>Group</td>\n",
       "      <td>Email</td>\n",
       "      <td>In-Person Meeting</td>\n",
       "      <td>Afternoon</td>\n",
       "      <td>English</td>\n",
       "      <td>Segment5</td>\n",
       "    </tr>\n",
       "    <tr>\n",
       "      <th>1</th>\n",
       "      <td>95568</td>\n",
       "      <td>26</td>\n",
       "      <td>Male</td>\n",
       "      <td>Widowed</td>\n",
       "      <td>Doctorate</td>\n",
       "      <td>Goa</td>\n",
       "      <td>Manager</td>\n",
       "      <td>54168</td>\n",
       "      <td>policy5</td>\n",
       "      <td>11-06-2018</td>\n",
       "      <td>Chat</td>\n",
       "      <td>policy1</td>\n",
       "      <td>780236</td>\n",
       "      <td>1966</td>\n",
       "      <td>Group</td>\n",
       "      <td>Mail</td>\n",
       "      <td>In-Person Meeting</td>\n",
       "      <td>Morning</td>\n",
       "      <td>French</td>\n",
       "      <td>Segment5</td>\n",
       "    </tr>\n",
       "    <tr>\n",
       "      <th>2</th>\n",
       "      <td>10544</td>\n",
       "      <td>29</td>\n",
       "      <td>Female</td>\n",
       "      <td>Single</td>\n",
       "      <td>Associate Degree</td>\n",
       "      <td>Rajasthan</td>\n",
       "      <td>Entrepreneur</td>\n",
       "      <td>73899</td>\n",
       "      <td>policy5</td>\n",
       "      <td>06-05-2021</td>\n",
       "      <td>Email</td>\n",
       "      <td>policy3</td>\n",
       "      <td>773926</td>\n",
       "      <td>4413</td>\n",
       "      <td>Group</td>\n",
       "      <td>Email</td>\n",
       "      <td>Mail</td>\n",
       "      <td>Evening</td>\n",
       "      <td>German</td>\n",
       "      <td>Segment3</td>\n",
       "    </tr>\n",
       "    <tr>\n",
       "      <th>3</th>\n",
       "      <td>77033</td>\n",
       "      <td>20</td>\n",
       "      <td>Male</td>\n",
       "      <td>Divorced</td>\n",
       "      <td>Bachelor's Degree</td>\n",
       "      <td>Sikkim</td>\n",
       "      <td>Entrepreneur</td>\n",
       "      <td>63381</td>\n",
       "      <td>policy5</td>\n",
       "      <td>09-02-2018</td>\n",
       "      <td>Chat</td>\n",
       "      <td>policy2</td>\n",
       "      <td>787815</td>\n",
       "      <td>4342</td>\n",
       "      <td>Family</td>\n",
       "      <td>Text</td>\n",
       "      <td>In-Person Meeting</td>\n",
       "      <td>Anytime</td>\n",
       "      <td>French</td>\n",
       "      <td>Segment3</td>\n",
       "    </tr>\n",
       "    <tr>\n",
       "      <th>4</th>\n",
       "      <td>88160</td>\n",
       "      <td>25</td>\n",
       "      <td>Female</td>\n",
       "      <td>Separated</td>\n",
       "      <td>Bachelor's Degree</td>\n",
       "      <td>West Bengal</td>\n",
       "      <td>Manager</td>\n",
       "      <td>38794</td>\n",
       "      <td>policy1</td>\n",
       "      <td>09-10-2018</td>\n",
       "      <td>Chat</td>\n",
       "      <td>policy4</td>\n",
       "      <td>366506</td>\n",
       "      <td>1276</td>\n",
       "      <td>Family</td>\n",
       "      <td>Email</td>\n",
       "      <td>Text</td>\n",
       "      <td>Weekends</td>\n",
       "      <td>English</td>\n",
       "      <td>Segment2</td>\n",
       "    </tr>\n",
       "  </tbody>\n",
       "</table>\n",
       "</div>"
      ],
      "text/plain": [
       "   Customer ID  Age  Gender Marital Status    Education Level  \\\n",
       "0        84966   23  Female        Married   Associate Degree   \n",
       "1        95568   26    Male        Widowed          Doctorate   \n",
       "2        10544   29  Female         Single   Associate Degree   \n",
       "3        77033   20    Male       Divorced  Bachelor's Degree   \n",
       "4        88160   25  Female      Separated  Bachelor's Degree   \n",
       "\n",
       "  Geographic Information    Occupation  Income Level Behavioral Data  \\\n",
       "0                Mizoram  Entrepreneur         70541         policy5   \n",
       "1                    Goa       Manager         54168         policy5   \n",
       "2              Rajasthan  Entrepreneur         73899         policy5   \n",
       "3                 Sikkim  Entrepreneur         63381         policy5   \n",
       "4            West Bengal       Manager         38794         policy1   \n",
       "\n",
       "  Purchase History Interactions with Customer Service  \\\n",
       "0       04-10-2018                              Phone   \n",
       "1       11-06-2018                               Chat   \n",
       "2       06-05-2021                              Email   \n",
       "3       09-02-2018                               Chat   \n",
       "4       09-10-2018                               Chat   \n",
       "\n",
       "  Insurance Products Owned  Coverage Amount  Premium Amount Policy Type  \\\n",
       "0                  policy2           366603            2749       Group   \n",
       "1                  policy1           780236            1966       Group   \n",
       "2                  policy3           773926            4413       Group   \n",
       "3                  policy2           787815            4342      Family   \n",
       "4                  policy4           366506            1276      Family   \n",
       "\n",
       "  Customer Preferences Preferred Communication Channel Preferred Contact Time  \\\n",
       "0                Email               In-Person Meeting              Afternoon   \n",
       "1                 Mail               In-Person Meeting                Morning   \n",
       "2                Email                            Mail                Evening   \n",
       "3                 Text               In-Person Meeting                Anytime   \n",
       "4                Email                            Text               Weekends   \n",
       "\n",
       "  Preferred Language Segmentation Group  \n",
       "0            English           Segment5  \n",
       "1             French           Segment5  \n",
       "2             German           Segment3  \n",
       "3             French           Segment3  \n",
       "4            English           Segment2  "
      ]
     },
     "execution_count": 2,
     "metadata": {},
     "output_type": "execute_result"
    }
   ],
   "source": [
    "df = pd.read_csv(\"/home/musasina/Desktop/projects/ZiraatBankFraudAI/datasets/customer_segmentation_data.csv\")\n",
    "df.head()"
   ]
  },
  {
   "cell_type": "code",
   "execution_count": 3,
   "metadata": {},
   "outputs": [],
   "source": [
    "df = df.drop(\"Customer ID\",axis=1)\n",
    "df = df.drop(\"Geographic Information\",axis=1)"
   ]
  },
  {
   "cell_type": "code",
   "execution_count": 4,
   "metadata": {},
   "outputs": [],
   "source": [
    "df[\"Age\"] = df[\"Age\"].apply(lambda x : int(x))"
   ]
  },
  {
   "cell_type": "code",
   "execution_count": 5,
   "metadata": {},
   "outputs": [
    {
     "name": "stdout",
     "output_type": "stream",
     "text": [
      "Index(['Female', 'Male'], dtype='object')\n"
     ]
    }
   ],
   "source": [
    "df[\"Gender\"], equivalent = pd.factorize(df[\"Gender\"],sort=True)\n",
    "print(equivalent)"
   ]
  },
  {
   "cell_type": "code",
   "execution_count": 6,
   "metadata": {},
   "outputs": [
    {
     "name": "stdout",
     "output_type": "stream",
     "text": [
      "Index(['Divorced', 'Married', 'Separated', 'Single', 'Widowed'], dtype='object')\n"
     ]
    }
   ],
   "source": [
    "df[\"Marital Status\"], equivalent = pd.factorize(df[\"Marital Status\"],sort=True)\n",
    "print(equivalent)"
   ]
  },
  {
   "cell_type": "code",
   "execution_count": 7,
   "metadata": {},
   "outputs": [
    {
     "name": "stdout",
     "output_type": "stream",
     "text": [
      "Index(['Associate Degree', 'Bachelor's Degree', 'Doctorate',\n",
      "       'High School Diploma', 'Master's Degree'],\n",
      "      dtype='object')\n"
     ]
    }
   ],
   "source": [
    "df[\"Education Level\"], equivalent = pd.factorize(df[\"Education Level\"],sort=True)\n",
    "print(equivalent)"
   ]
  },
  {
   "cell_type": "code",
   "execution_count": 8,
   "metadata": {},
   "outputs": [
    {
     "name": "stdout",
     "output_type": "stream",
     "text": [
      "Index(['Artist', 'Doctor', 'Engineer', 'Entrepreneur', 'Lawyer', 'Manager',\n",
      "       'Nurse', 'Salesperson', 'Teacher'],\n",
      "      dtype='object')\n"
     ]
    }
   ],
   "source": [
    "df[\"Occupation\"], equivalent = pd.factorize(df[\"Occupation\"],sort=True)\n",
    "print(equivalent)"
   ]
  },
  {
   "cell_type": "code",
   "execution_count": 9,
   "metadata": {},
   "outputs": [],
   "source": [
    "df[\"Income Level\"] = df[\"Income Level\"].apply(lambda x : int(x))"
   ]
  },
  {
   "cell_type": "code",
   "execution_count": 10,
   "metadata": {},
   "outputs": [
    {
     "name": "stdout",
     "output_type": "stream",
     "text": [
      "Index(['policy1', 'policy2', 'policy3', 'policy4', 'policy5'], dtype='object')\n"
     ]
    }
   ],
   "source": [
    "df[\"Behavioral Data\"], equivalent = pd.factorize(df[\"Behavioral Data\"],sort=True)\n",
    "print(equivalent)"
   ]
  },
  {
   "cell_type": "code",
   "execution_count": 14,
   "metadata": {},
   "outputs": [],
   "source": [
    "def convert_time_to_posix(text:str):\n",
    "    format_1 = \"%d-%m-%Y\"\n",
    "    format_2 = \"%m/%d/%Y\"\n",
    "    try:\n",
    "        return datetime.datetime.timestamp(datetime.datetime.strptime(str(text),format_1))\n",
    "    except BaseException:\n",
    "        return datetime.datetime.timestamp(datetime.datetime.strptime(str(text),format_2))"
   ]
  },
  {
   "cell_type": "code",
   "execution_count": 15,
   "metadata": {},
   "outputs": [
    {
     "data": {
      "text/plain": [
       "0    1.538600e+09\n",
       "1    1.528664e+09\n",
       "2    1.620248e+09\n",
       "3    1.518124e+09\n",
       "4    1.539032e+09\n",
       "Name: Purchase History, dtype: float64"
      ]
     },
     "execution_count": 15,
     "metadata": {},
     "output_type": "execute_result"
    }
   ],
   "source": [
    "df[\"Purchase History\"] = df[\"Purchase History\"].apply(convert_time_to_posix)\n",
    "df[\"Purchase History\"].head()"
   ]
  },
  {
   "cell_type": "code",
   "execution_count": 16,
   "metadata": {},
   "outputs": [
    {
     "name": "stdout",
     "output_type": "stream",
     "text": [
      "Index(['Chat', 'Email', 'In-Person', 'Mobile App', 'Phone'], dtype='object')\n"
     ]
    }
   ],
   "source": [
    "df[\"Interactions with Customer Service\"], equivalent = pd.factorize(df[\"Interactions with Customer Service\"],sort=True)\n",
    "print(equivalent)"
   ]
  },
  {
   "cell_type": "code",
   "execution_count": 17,
   "metadata": {},
   "outputs": [
    {
     "name": "stdout",
     "output_type": "stream",
     "text": [
      "Index(['policy1', 'policy2', 'policy3', 'policy4', 'policy5'], dtype='object')\n"
     ]
    }
   ],
   "source": [
    "df[\"Insurance Products Owned\"], equivalent = pd.factorize(df[\"Insurance Products Owned\"],sort=True)\n",
    "print(equivalent)"
   ]
  },
  {
   "cell_type": "code",
   "execution_count": 18,
   "metadata": {},
   "outputs": [],
   "source": [
    "df[\"Coverage Amount\"] = df[\"Coverage Amount\"].apply(lambda x : int(x))\n",
    "df[\"Premium Amount\"] = df[\"Premium Amount\"].apply(lambda x : int(x))"
   ]
  },
  {
   "cell_type": "code",
   "execution_count": 19,
   "metadata": {},
   "outputs": [
    {
     "name": "stdout",
     "output_type": "stream",
     "text": [
      "Index(['Business', 'Family', 'Group', 'Individual'], dtype='object')\n"
     ]
    }
   ],
   "source": [
    "df[\"Policy Type\"], equivalent = pd.factorize(df[\"Policy Type\"],sort=True)\n",
    "print(equivalent)"
   ]
  },
  {
   "cell_type": "code",
   "execution_count": 20,
   "metadata": {},
   "outputs": [
    {
     "name": "stdout",
     "output_type": "stream",
     "text": [
      "Index(['Email', 'In-Person Meeting', 'Mail', 'Phone', 'Text'], dtype='object')\n"
     ]
    }
   ],
   "source": [
    "df[\"Customer Preferences\"], equivalent = pd.factorize(df[\"Customer Preferences\"],sort=True)\n",
    "print(equivalent)"
   ]
  },
  {
   "cell_type": "code",
   "execution_count": 21,
   "metadata": {},
   "outputs": [
    {
     "name": "stdout",
     "output_type": "stream",
     "text": [
      "Index(['Email', 'In-Person Meeting', 'Mail', 'Phone', 'Text'], dtype='object')\n"
     ]
    }
   ],
   "source": [
    "df[\"Preferred Communication Channel\"], equivalent = pd.factorize(df[\"Preferred Communication Channel\"],sort=True)\n",
    "print(equivalent)"
   ]
  },
  {
   "cell_type": "code",
   "execution_count": 22,
   "metadata": {},
   "outputs": [
    {
     "name": "stdout",
     "output_type": "stream",
     "text": [
      "Index(['Afternoon', 'Anytime', 'Evening', 'Morning', 'Weekends'], dtype='object')\n"
     ]
    }
   ],
   "source": [
    "df[\"Preferred Contact Time\"], equivalent = pd.factorize(df[\"Preferred Contact Time\"],sort=True)\n",
    "print(equivalent)"
   ]
  },
  {
   "cell_type": "code",
   "execution_count": 23,
   "metadata": {},
   "outputs": [
    {
     "name": "stdout",
     "output_type": "stream",
     "text": [
      "Index(['English', 'French', 'German', 'Mandarin', 'Spanish'], dtype='object')\n"
     ]
    }
   ],
   "source": [
    "df[\"Preferred Language\"], equivalent = pd.factorize(df[\"Preferred Language\"],sort=True)\n",
    "print(equivalent)"
   ]
  },
  {
   "cell_type": "code",
   "execution_count": 24,
   "metadata": {},
   "outputs": [
    {
     "name": "stdout",
     "output_type": "stream",
     "text": [
      "Index(['Segment1', 'Segment2', 'Segment3', 'Segment4', 'Segment5'], dtype='object')\n"
     ]
    }
   ],
   "source": [
    "df[\"Segmentation Group\"], equivalent = pd.factorize(df[\"Segmentation Group\"],sort=True)\n",
    "print(equivalent)"
   ]
  },
  {
   "cell_type": "markdown",
   "metadata": {},
   "source": [
    "### Select Futures"
   ]
  },
  {
   "cell_type": "code",
   "execution_count": 25,
   "metadata": {},
   "outputs": [],
   "source": [
    "from sklearn.feature_selection import mutual_info_classif\n",
    "import matplotlib.pyplot as plt"
   ]
  },
  {
   "cell_type": "code",
   "execution_count": 28,
   "metadata": {},
   "outputs": [],
   "source": [
    "X = df.iloc[:,:-1]\n",
    "Y = df.iloc[:,-1]"
   ]
  },
  {
   "cell_type": "code",
   "execution_count": 29,
   "metadata": {},
   "outputs": [
    {
     "data": {
      "text/html": [
       "<div>\n",
       "<style scoped>\n",
       "    .dataframe tbody tr th:only-of-type {\n",
       "        vertical-align: middle;\n",
       "    }\n",
       "\n",
       "    .dataframe tbody tr th {\n",
       "        vertical-align: top;\n",
       "    }\n",
       "\n",
       "    .dataframe thead th {\n",
       "        text-align: right;\n",
       "    }\n",
       "</style>\n",
       "<table border=\"1\" class=\"dataframe\">\n",
       "  <thead>\n",
       "    <tr style=\"text-align: right;\">\n",
       "      <th></th>\n",
       "      <th>Age</th>\n",
       "      <th>Gender</th>\n",
       "      <th>Marital Status</th>\n",
       "      <th>Education Level</th>\n",
       "      <th>Occupation</th>\n",
       "      <th>Income Level</th>\n",
       "      <th>Behavioral Data</th>\n",
       "      <th>Purchase History</th>\n",
       "      <th>Interactions with Customer Service</th>\n",
       "      <th>Insurance Products Owned</th>\n",
       "      <th>Coverage Amount</th>\n",
       "      <th>Premium Amount</th>\n",
       "      <th>Policy Type</th>\n",
       "      <th>Customer Preferences</th>\n",
       "      <th>Preferred Communication Channel</th>\n",
       "      <th>Preferred Contact Time</th>\n",
       "      <th>Preferred Language</th>\n",
       "    </tr>\n",
       "  </thead>\n",
       "  <tbody>\n",
       "    <tr>\n",
       "      <th>0</th>\n",
       "      <td>23</td>\n",
       "      <td>0</td>\n",
       "      <td>1</td>\n",
       "      <td>0</td>\n",
       "      <td>3</td>\n",
       "      <td>70541</td>\n",
       "      <td>4</td>\n",
       "      <td>1.538600e+09</td>\n",
       "      <td>4</td>\n",
       "      <td>1</td>\n",
       "      <td>366603</td>\n",
       "      <td>2749</td>\n",
       "      <td>2</td>\n",
       "      <td>0</td>\n",
       "      <td>1</td>\n",
       "      <td>0</td>\n",
       "      <td>0</td>\n",
       "    </tr>\n",
       "    <tr>\n",
       "      <th>1</th>\n",
       "      <td>26</td>\n",
       "      <td>1</td>\n",
       "      <td>4</td>\n",
       "      <td>2</td>\n",
       "      <td>5</td>\n",
       "      <td>54168</td>\n",
       "      <td>4</td>\n",
       "      <td>1.528664e+09</td>\n",
       "      <td>0</td>\n",
       "      <td>0</td>\n",
       "      <td>780236</td>\n",
       "      <td>1966</td>\n",
       "      <td>2</td>\n",
       "      <td>2</td>\n",
       "      <td>1</td>\n",
       "      <td>3</td>\n",
       "      <td>1</td>\n",
       "    </tr>\n",
       "    <tr>\n",
       "      <th>2</th>\n",
       "      <td>29</td>\n",
       "      <td>0</td>\n",
       "      <td>3</td>\n",
       "      <td>0</td>\n",
       "      <td>3</td>\n",
       "      <td>73899</td>\n",
       "      <td>4</td>\n",
       "      <td>1.620248e+09</td>\n",
       "      <td>1</td>\n",
       "      <td>2</td>\n",
       "      <td>773926</td>\n",
       "      <td>4413</td>\n",
       "      <td>2</td>\n",
       "      <td>0</td>\n",
       "      <td>2</td>\n",
       "      <td>2</td>\n",
       "      <td>2</td>\n",
       "    </tr>\n",
       "    <tr>\n",
       "      <th>3</th>\n",
       "      <td>20</td>\n",
       "      <td>1</td>\n",
       "      <td>0</td>\n",
       "      <td>1</td>\n",
       "      <td>3</td>\n",
       "      <td>63381</td>\n",
       "      <td>4</td>\n",
       "      <td>1.518124e+09</td>\n",
       "      <td>0</td>\n",
       "      <td>1</td>\n",
       "      <td>787815</td>\n",
       "      <td>4342</td>\n",
       "      <td>1</td>\n",
       "      <td>4</td>\n",
       "      <td>1</td>\n",
       "      <td>1</td>\n",
       "      <td>1</td>\n",
       "    </tr>\n",
       "    <tr>\n",
       "      <th>4</th>\n",
       "      <td>25</td>\n",
       "      <td>0</td>\n",
       "      <td>2</td>\n",
       "      <td>1</td>\n",
       "      <td>5</td>\n",
       "      <td>38794</td>\n",
       "      <td>0</td>\n",
       "      <td>1.539032e+09</td>\n",
       "      <td>0</td>\n",
       "      <td>3</td>\n",
       "      <td>366506</td>\n",
       "      <td>1276</td>\n",
       "      <td>1</td>\n",
       "      <td>0</td>\n",
       "      <td>4</td>\n",
       "      <td>4</td>\n",
       "      <td>0</td>\n",
       "    </tr>\n",
       "  </tbody>\n",
       "</table>\n",
       "</div>"
      ],
      "text/plain": [
       "   Age  Gender  Marital Status  Education Level  Occupation  Income Level  \\\n",
       "0   23       0               1                0           3         70541   \n",
       "1   26       1               4                2           5         54168   \n",
       "2   29       0               3                0           3         73899   \n",
       "3   20       1               0                1           3         63381   \n",
       "4   25       0               2                1           5         38794   \n",
       "\n",
       "   Behavioral Data  Purchase History  Interactions with Customer Service  \\\n",
       "0                4      1.538600e+09                                   4   \n",
       "1                4      1.528664e+09                                   0   \n",
       "2                4      1.620248e+09                                   1   \n",
       "3                4      1.518124e+09                                   0   \n",
       "4                0      1.539032e+09                                   0   \n",
       "\n",
       "   Insurance Products Owned  Coverage Amount  Premium Amount  Policy Type  \\\n",
       "0                         1           366603            2749            2   \n",
       "1                         0           780236            1966            2   \n",
       "2                         2           773926            4413            2   \n",
       "3                         1           787815            4342            1   \n",
       "4                         3           366506            1276            1   \n",
       "\n",
       "   Customer Preferences  Preferred Communication Channel  \\\n",
       "0                     0                                1   \n",
       "1                     2                                1   \n",
       "2                     0                                2   \n",
       "3                     4                                1   \n",
       "4                     0                                4   \n",
       "\n",
       "   Preferred Contact Time  Preferred Language  \n",
       "0                       0                   0  \n",
       "1                       3                   1  \n",
       "2                       2                   2  \n",
       "3                       1                   1  \n",
       "4                       4                   0  "
      ]
     },
     "execution_count": 29,
     "metadata": {},
     "output_type": "execute_result"
    }
   ],
   "source": [
    "X.head()"
   ]
  },
  {
   "cell_type": "code",
   "execution_count": 30,
   "metadata": {},
   "outputs": [
    {
     "data": {
      "text/plain": [
       "0    4\n",
       "1    4\n",
       "2    2\n",
       "3    2\n",
       "4    1\n",
       "Name: Segmentation Group, dtype: int64"
      ]
     },
     "execution_count": 30,
     "metadata": {},
     "output_type": "execute_result"
    }
   ],
   "source": [
    "Y.head()"
   ]
  },
  {
   "cell_type": "code",
   "execution_count": 31,
   "metadata": {},
   "outputs": [],
   "source": [
    "infos = mutual_info_classif(X,Y)"
   ]
  },
  {
   "cell_type": "code",
   "execution_count": 34,
   "metadata": {},
   "outputs": [],
   "source": [
    "infos_dict = {}\n",
    "\n",
    "for name,value in zip(X.columns,infos):\n",
    "    infos_dict[str(name)] = value"
   ]
  },
  {
   "cell_type": "code",
   "execution_count": 43,
   "metadata": {},
   "outputs": [],
   "source": [
    "import seaborn as sns"
   ]
  },
  {
   "cell_type": "code",
   "execution_count": 44,
   "metadata": {},
   "outputs": [
    {
     "data": {
      "image/png": "[encoded data removed]",
      "text/plain": [
       "<Figure size 640x480 with 1 Axes>"
      ]
     },
     "metadata": {},
     "output_type": "display_data"
    }
   ],
   "source": [
    "sns.barplot(x=list(infos_dict.values()),y= list(infos_dict.keys()))\n",
    "plt.show()"
   ]
  },
  {
   "cell_type": "code",
   "execution_count": 45,
   "metadata": {},
   "outputs": [],
   "source": [
    "X = X.drop(\"Education Level\",axis=1)\n",
    "X = X.drop(\"Income Level\",axis=1)\n",
    "X = X.drop(\"Interactions with Customer Service\",axis=1)\n",
    "X = X.drop(\"Insurance Products Owned\",axis=1)\n",
    "X = X.drop(\"Preferred Language\",axis=1)"
   ]
  },
  {
   "cell_type": "markdown",
   "metadata": {},
   "source": [
    "### Train"
   ]
  },
  {
   "cell_type": "code",
   "execution_count": null,
   "metadata": {},
   "outputs": [],
   "source": [
    "from sklearn.ensemble import RandomForestClassifier\n",
    "from sklearn.model_selection import cross_validate"
   ]
  },
  {
   "cell_type": "code",
   "execution_count": null,
   "metadata": {},
   "outputs": [],
   "source": [
    "gini_random_forest = RandomForestClassifier(criterion=\"gini\",random_state=42)\n",
    "entropy_random_forest = RandomForestClassifier(criterion=\"entropy\",random_state=42)\n",
    "log_random_forest = RandomForestClassifier(criterion=\"log_loss\",random_state=42)"
   ]
  },
  {
   "cell_type": "code",
   "execution_count": null,
   "metadata": {},
   "outputs": [],
   "source": [
    "gini_cros_val = cross_validate(gini_random_forest,X,Y)\n",
    "entropy_cros_val = cross_validate(entropy_random_forest,X,Y)\n",
    "log_cros_val = cross_validate(log_random_forest,X,Y)"
   ]
  },
  {
   "cell_type": "code",
   "execution_count": null,
   "metadata": {},
   "outputs": [],
   "source": [
    "print(gini_cros_val)[\"test_score\"]\n",
    "print(entropy_cros_val)[\"test_score\"]\n",
    "print(log_cros_val)[\"test_score\"]"
   ]
  }
 ],
 "metadata": {
  "kernelspec": {
   "display_name": "teknofest",
   "language": "python",
   "name": "python3"
  },
  "language_info": {
   "codemirror_mode": {
    "name": "ipython",
    "version": 3
   },
   "file_extension": ".py",
   "mimetype": "text/x-python",
   "name": "python",
   "nbconvert_exporter": "python",
   "pygments_lexer": "ipython3",
   "version": "3.11.9"
  }
 },
 "nbformat": 4,
 "nbformat_minor": 2
}
