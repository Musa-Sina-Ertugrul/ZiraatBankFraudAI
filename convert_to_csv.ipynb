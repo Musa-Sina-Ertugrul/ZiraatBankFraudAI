{
 "cells": [
  {
   "cell_type": "code",
   "execution_count": 1,
   "metadata": {},
   "outputs": [],
   "source": [
    "import pandas as pd\n",
    "import numpy\n",
    "import sqlite3\n",
    "from sklearn.utils import  shuffle"
   ]
  },
  {
   "cell_type": "code",
   "execution_count": 2,
   "metadata": {},
   "outputs": [],
   "source": [
    "con_1 = sqlite3.connect(\"/home/musasina/Desktop/projects/ZiraatBankFraudAI/gemini_dataset/collected_data.db\")\n",
    "con_2 = sqlite3.connect(\"/home/musasina/Desktop/projects/ZiraatBankFraudAI/groq_dataset/collected_data.db\")"
   ]
  },
  {
   "cell_type": "code",
   "execution_count": 3,
   "metadata": {},
   "outputs": [],
   "source": [
    "df_1 = pd.read_sql_query(\"SELECT * FROM data\",con_1)\n",
    "df_2 = pd.read_sql_query(\"SELECT * FROM data\",con_2)"
   ]
  },
  {
   "cell_type": "code",
   "execution_count": 4,
   "metadata": {},
   "outputs": [],
   "source": [
    "df_1[\"label\"] = df_1[\"label\"].convert_dtypes(convert_string=True).apply(lambda x : x.casefold())\n",
    "df_2[\"label\"] = df_2[\"label\"].convert_dtypes(convert_string=True).apply(lambda x : x.casefold())\n",
    "df_1[\"text\"] = df_1[\"text\"].convert_dtypes(convert_string=True).apply(lambda x : x.casefold())\n",
    "df_2[\"text\"] = df_2[\"text\"].convert_dtypes(convert_string=True).apply(lambda x : x.casefold())"
   ]
  },
  {
   "cell_type": "code",
   "execution_count": 5,
   "metadata": {},
   "outputs": [],
   "source": [
    "df = pd.concat((df_1,df_2),ignore_index=True)\n",
    "df_fraud = df[df[\"label\"] == \"fraud\"]\n",
    "df_not_fraud = df[df[\"label\"] == \"not fraud\"]\n",
    "df = shuffle(pd.concat((df_fraud,df_not_fraud),ignore_index=True),random_state=42)\n",
    "df = df.dropna()\n",
    "df.to_csv(\"/home/musasina/Desktop/projects/ZiraatBankFraudAI/datasets/fraud_text_data.csv\",index=False)\n"
   ]
  }
 ],
 "metadata": {
  "kernelspec": {
   "display_name": "teknofest",
   "language": "python",
   "name": "python3"
  },
  "language_info": {
   "codemirror_mode": {
    "name": "ipython",
    "version": 3
   },
   "file_extension": ".py",
   "mimetype": "text/x-python",
   "name": "python",
   "nbconvert_exporter": "python",
   "pygments_lexer": "ipython3",
   "version": "3.11.9"
  }
 },
 "nbformat": 4,
 "nbformat_minor": 2
}
